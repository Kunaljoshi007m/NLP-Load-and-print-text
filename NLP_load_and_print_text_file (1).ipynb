{
  "nbformat": 4,
  "nbformat_minor": 0,
  "metadata": {
    "colab": {
      "provenance": []
    },
    "kernelspec": {
      "name": "python3",
      "display_name": "Python 3"
    },
    "language_info": {
      "name": "python"
    }
  },
  "cells": [
    {
      "cell_type": "code",
      "execution_count": 9,
      "metadata": {
        "id": "qd27EhvJFsjm"
      },
      "outputs": [],
      "source": [
        "#Open the text file :\n",
        "text_file = open(\"The hungry mouse.txt\")\n",
        "#Read the data :\n",
        "text = text_file.read()"
      ]
    },
    {
      "cell_type": "code",
      "source": [
        "#Datatype of the data read :\n",
        "print (type(text))\n",
        "print(\"\\n\")"
      ],
      "metadata": {
        "id": "1JnYUWfAQT8s",
        "outputId": "57d95539-1db2-4801-a724-8e93e0f700f4",
        "colab": {
          "base_uri": "https://localhost:8080/"
        }
      },
      "execution_count": 8,
      "outputs": [
        {
          "output_type": "stream",
          "name": "stdout",
          "text": [
            "<class 'str'>\n",
            "\n",
            "\n"
          ]
        }
      ]
    },
    {
      "cell_type": "code",
      "source": [
        "#Print the text :\n",
        "print(text)\n",
        "print(\"\\n\")\n",
        "#Length of the text :\n",
        "print (len(text))"
      ],
      "metadata": {
        "colab": {
          "base_uri": "https://localhost:8080/"
        },
        "id": "j2q4tFFpQEzo",
        "outputId": "755cb9e1-7c29-4b62-f8f9-53801c0f8a95"
      },
      "execution_count": 6,
      "outputs": [
        {
          "output_type": "stream",
          "name": "stdout",
          "text": [
            "\n",
            "The Hungry Mouse\n",
            "A mouse was having a very thought time.\n",
            "She had no food for many days and made strenuous efforts get her food\n",
            "All her efforts went in vain. She looked everywhere to find her food.\n",
            "As the days pass by. she became very thin.\n",
            "\n",
            "One day, the mouse found a basket with corns.\n",
            "She also noticed a tiny hole in the basket,\n",
            "which was sufficient enough to move her in. \n",
            "She easily moved inside the hole.\n",
            "\n",
            "Since she had no foods for many days, she ate a large amount of corn. \n",
            "Without realizing her, she continuously ate more and more corns. \n",
            "She realized very later that she ate a lot more than she actually required. \n",
            "After eating a whole lot of corn, she became very fat!\n",
            "Satisfied with corns, the fat mouse tried to come out of the basket through the small hole. \n",
            "Unfortunately, the tiny hole could not accommodate the big mouse!!!!\n",
            "\n",
            "The mouse started screaming 'Oh god! Let me come out, how can I come out?\"\n",
            "\n",
            "A rat after hearing mouse's screaming voice from the basket, asked her what happened!\n",
            "Mouse told the story and asked rat a solution.\n",
            "\n",
            "Rat told, \"if you want to come out the basket, wait for sometime or even days to lose your all your fat until you grow thin.\"\n",
            "Mouse started to starve now but with lots of food to come out of the trap!\n",
            "\n",
            "Moral Lesson: Anything too much is good for nothing!\n",
            "\n",
            "\n",
            "1308\n"
          ]
        }
      ]
    },
    {
      "cell_type": "markdown",
      "source": [
        "\n",
        "# Import required libraries :"
      ],
      "metadata": {
        "id": "tHZ-tuijJugo"
      }
    },
    {
      "cell_type": "code",
      "source": [
        "import nltk\n",
        "from nltk import sent_tokenize\n",
        "from nltk import word_tokenize\n",
        "import nltk\n",
        "nltk.download(\"popular\")"
      ],
      "metadata": {
        "colab": {
          "base_uri": "https://localhost:8080/"
        },
        "id": "7A0csYl8J3zs",
        "outputId": "dc7449bc-1ab7-4f56-e084-db8ed7af023c"
      },
      "execution_count": 2,
      "outputs": [
        {
          "output_type": "stream",
          "name": "stderr",
          "text": [
            "[nltk_data] Downloading collection 'popular'\n",
            "[nltk_data]    | \n",
            "[nltk_data]    | Downloading package cmudict to /root/nltk_data...\n",
            "[nltk_data]    |   Unzipping corpora/cmudict.zip.\n",
            "[nltk_data]    | Downloading package gazetteers to /root/nltk_data...\n",
            "[nltk_data]    |   Unzipping corpora/gazetteers.zip.\n",
            "[nltk_data]    | Downloading package genesis to /root/nltk_data...\n",
            "[nltk_data]    |   Unzipping corpora/genesis.zip.\n",
            "[nltk_data]    | Downloading package gutenberg to /root/nltk_data...\n",
            "[nltk_data]    |   Unzipping corpora/gutenberg.zip.\n",
            "[nltk_data]    | Downloading package inaugural to /root/nltk_data...\n",
            "[nltk_data]    |   Unzipping corpora/inaugural.zip.\n",
            "[nltk_data]    | Downloading package movie_reviews to\n",
            "[nltk_data]    |     /root/nltk_data...\n",
            "[nltk_data]    |   Unzipping corpora/movie_reviews.zip.\n",
            "[nltk_data]    | Downloading package names to /root/nltk_data...\n",
            "[nltk_data]    |   Unzipping corpora/names.zip.\n",
            "[nltk_data]    | Downloading package shakespeare to /root/nltk_data...\n",
            "[nltk_data]    |   Unzipping corpora/shakespeare.zip.\n",
            "[nltk_data]    | Downloading package stopwords to /root/nltk_data...\n",
            "[nltk_data]    |   Unzipping corpora/stopwords.zip.\n",
            "[nltk_data]    | Downloading package treebank to /root/nltk_data...\n",
            "[nltk_data]    |   Unzipping corpora/treebank.zip.\n",
            "[nltk_data]    | Downloading package twitter_samples to\n",
            "[nltk_data]    |     /root/nltk_data...\n",
            "[nltk_data]    |   Unzipping corpora/twitter_samples.zip.\n",
            "[nltk_data]    | Downloading package omw to /root/nltk_data...\n",
            "[nltk_data]    | Downloading package omw-1.4 to /root/nltk_data...\n",
            "[nltk_data]    | Downloading package wordnet to /root/nltk_data...\n",
            "[nltk_data]    | Downloading package wordnet2021 to /root/nltk_data...\n",
            "[nltk_data]    | Downloading package wordnet31 to /root/nltk_data...\n",
            "[nltk_data]    | Downloading package wordnet_ic to /root/nltk_data...\n",
            "[nltk_data]    |   Unzipping corpora/wordnet_ic.zip.\n",
            "[nltk_data]    | Downloading package words to /root/nltk_data...\n",
            "[nltk_data]    |   Unzipping corpora/words.zip.\n",
            "[nltk_data]    | Downloading package maxent_ne_chunker to\n",
            "[nltk_data]    |     /root/nltk_data...\n",
            "[nltk_data]    |   Unzipping chunkers/maxent_ne_chunker.zip.\n",
            "[nltk_data]    | Downloading package punkt to /root/nltk_data...\n",
            "[nltk_data]    |   Unzipping tokenizers/punkt.zip.\n",
            "[nltk_data]    | Downloading package snowball_data to\n",
            "[nltk_data]    |     /root/nltk_data...\n",
            "[nltk_data]    | Downloading package averaged_perceptron_tagger to\n",
            "[nltk_data]    |     /root/nltk_data...\n",
            "[nltk_data]    |   Unzipping taggers/averaged_perceptron_tagger.zip.\n",
            "[nltk_data]    | \n",
            "[nltk_data]  Done downloading collection popular\n"
          ]
        },
        {
          "output_type": "execute_result",
          "data": {
            "text/plain": [
              "True"
            ]
          },
          "metadata": {},
          "execution_count": 2
        }
      ]
    },
    {
      "cell_type": "code",
      "source": [
        "#Tokenize the text by sentences :\n",
        "sentences = sent_tokenize(text)\n",
        "#How many sentences are there? :\n",
        "print (len(sentences))\n",
        "#print(sentences)\n",
        "sentences"
      ],
      "metadata": {
        "colab": {
          "base_uri": "https://localhost:8080/"
        },
        "id": "0oSOF_yYPoDm",
        "outputId": "6df6ee21-c61e-4b3c-b661-20f88c5b15d7"
      },
      "execution_count": 3,
      "outputs": [
        {
          "output_type": "stream",
          "name": "stdout",
          "text": [
            "21\n"
          ]
        },
        {
          "output_type": "execute_result",
          "data": {
            "text/plain": [
              "['\\nThe Hungry Mouse\\nA mouse was having a very thought time.',\n",
              " 'She had no food for many days and made strenuous efforts get her food\\nAll her efforts went in vain.',\n",
              " 'She looked everywhere to find her food.',\n",
              " 'As the days pass by.',\n",
              " 'she became very thin.',\n",
              " 'One day, the mouse found a basket with corns.',\n",
              " 'She also noticed a tiny hole in the basket,\\nwhich was sufficient enough to move her in.',\n",
              " 'She easily moved inside the hole.',\n",
              " 'Since she had no foods for many days, she ate a large amount of corn.',\n",
              " 'Without realizing her, she continuously ate more and more corns.',\n",
              " 'She realized very later that she ate a lot more than she actually required.',\n",
              " 'After eating a whole lot of corn, she became very fat!',\n",
              " 'Satisfied with corns, the fat mouse tried to come out of the basket through the small hole.',\n",
              " 'Unfortunately, the tiny hole could not accommodate the big mouse!!!!',\n",
              " \"The mouse started screaming 'Oh god!\",\n",
              " 'Let me come out, how can I come out?\"',\n",
              " \"A rat after hearing mouse's screaming voice from the basket, asked her what happened!\",\n",
              " 'Mouse told the story and asked rat a solution.',\n",
              " 'Rat told, \"if you want to come out the basket, wait for sometime or even days to lose your all your fat until you grow thin.\"',\n",
              " 'Mouse started to starve now but with lots of food to come out of the trap!',\n",
              " 'Moral Lesson: Anything too much is good for nothing!']"
            ]
          },
          "metadata": {},
          "execution_count": 3
        }
      ]
    },
    {
      "cell_type": "code",
      "source": [
        "#Tokenize the text with words :\n",
        "words = word_tokenize(text)\n",
        "#How many words are there? :\n",
        "print (len(words))\n",
        "print(\"\\n\")\n",
        "#Print words :\n",
        "print (words)\n"
      ],
      "metadata": {
        "colab": {
          "base_uri": "https://localhost:8080/"
        },
        "id": "JtK6eDpQPuGY",
        "outputId": "d994f81a-5988-4105-e35d-41ad4af8705c"
      },
      "execution_count": 4,
      "outputs": [
        {
          "output_type": "stream",
          "name": "stdout",
          "text": [
            "285\n",
            "\n",
            "\n",
            "['The', 'Hungry', 'Mouse', 'A', 'mouse', 'was', 'having', 'a', 'very', 'thought', 'time', '.', 'She', 'had', 'no', 'food', 'for', 'many', 'days', 'and', 'made', 'strenuous', 'efforts', 'get', 'her', 'food', 'All', 'her', 'efforts', 'went', 'in', 'vain', '.', 'She', 'looked', 'everywhere', 'to', 'find', 'her', 'food', '.', 'As', 'the', 'days', 'pass', 'by', '.', 'she', 'became', 'very', 'thin', '.', 'One', 'day', ',', 'the', 'mouse', 'found', 'a', 'basket', 'with', 'corns', '.', 'She', 'also', 'noticed', 'a', 'tiny', 'hole', 'in', 'the', 'basket', ',', 'which', 'was', 'sufficient', 'enough', 'to', 'move', 'her', 'in', '.', 'She', 'easily', 'moved', 'inside', 'the', 'hole', '.', 'Since', 'she', 'had', 'no', 'foods', 'for', 'many', 'days', ',', 'she', 'ate', 'a', 'large', 'amount', 'of', 'corn', '.', 'Without', 'realizing', 'her', ',', 'she', 'continuously', 'ate', 'more', 'and', 'more', 'corns', '.', 'She', 'realized', 'very', 'later', 'that', 'she', 'ate', 'a', 'lot', 'more', 'than', 'she', 'actually', 'required', '.', 'After', 'eating', 'a', 'whole', 'lot', 'of', 'corn', ',', 'she', 'became', 'very', 'fat', '!', 'Satisfied', 'with', 'corns', ',', 'the', 'fat', 'mouse', 'tried', 'to', 'come', 'out', 'of', 'the', 'basket', 'through', 'the', 'small', 'hole', '.', 'Unfortunately', ',', 'the', 'tiny', 'hole', 'could', 'not', 'accommodate', 'the', 'big', 'mouse', '!', '!', '!', '!', 'The', 'mouse', 'started', 'screaming', \"'Oh\", 'god', '!', 'Let', 'me', 'come', 'out', ',', 'how', 'can', 'I', 'come', 'out', '?', \"''\", 'A', 'rat', 'after', 'hearing', 'mouse', \"'s\", 'screaming', 'voice', 'from', 'the', 'basket', ',', 'asked', 'her', 'what', 'happened', '!', 'Mouse', 'told', 'the', 'story', 'and', 'asked', 'rat', 'a', 'solution', '.', 'Rat', 'told', ',', '``', 'if', 'you', 'want', 'to', 'come', 'out', 'the', 'basket', ',', 'wait', 'for', 'sometime', 'or', 'even', 'days', 'to', 'lose', 'your', 'all', 'your', 'fat', 'until', 'you', 'grow', 'thin', '.', \"''\", 'Mouse', 'started', 'to', 'starve', 'now', 'but', 'with', 'lots', 'of', 'food', 'to', 'come', 'out', 'of', 'the', 'trap', '!', 'Moral', 'Lesson', ':', 'Anything', 'too', 'much', 'is', 'good', 'for', 'nothing', '!']\n"
          ]
        }
      ]
    }
  ]
}